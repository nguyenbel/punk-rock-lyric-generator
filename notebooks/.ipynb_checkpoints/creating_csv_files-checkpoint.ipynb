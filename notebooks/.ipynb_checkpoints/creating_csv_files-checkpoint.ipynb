{
 "cells": [
  {
   "cell_type": "code",
   "execution_count": null,
   "metadata": {},
   "outputs": [],
   "source": [
    "import pandas as pd\n",
    "import numpy as np\n",
    "import re\n",
    "import csv\n",
    "from string import ascii_lowercase\n",
    "import random"
   ]
  },
  {
   "cell_type": "markdown",
   "metadata": {},
   "source": [
    "### Concatenate all csv files into one DataFrame (and csv)"
   ]
  },
  {
   "cell_type": "code",
   "execution_count": 2,
   "metadata": {},
   "outputs": [],
   "source": [
    "def create_df(file_path):\n",
    "    '''\n",
    "    Takes in file path and returns a dataframe\n",
    "    Used for unknown delimiter\n",
    "    '''\n",
    "    # open csv file\n",
    "    csv_ = open(file_path)\n",
    "\n",
    "    # read in csv file\n",
    "    read = csv.reader(csv_)\n",
    "\n",
    "    # create empty list for dataframe\n",
    "    file = []\n",
    "\n",
    "    k = 0\n",
    "\n",
    "    # read in each line\n",
    "    for lines in read:\n",
    "        # create/reset empty list for rows\n",
    "        row = []\n",
    "\n",
    "        # create/reset empty string for lyrics\n",
    "        lyr = ''\n",
    "\n",
    "        # create/reset accumulator\n",
    "        j = 0\n",
    "\n",
    "        for idx, i in enumerate(lines):\n",
    "\n",
    "            # lyrics start at index = 4\n",
    "            if idx > 3:\n",
    "                # strip punctuations except ' (and maybe ,)\n",
    "                i_no_punc = re.sub(r\"[^\\w\\s']\", '', i)\n",
    "\n",
    "                # add string to lyr\n",
    "                lyr += i_no_punc\n",
    "\n",
    "                # add to accumulator\n",
    "                j += 1\n",
    "\n",
    "                # subtract 4 for the 5 columns we want to end up with - 1 \n",
    "                # -1 since j accumulates before this statement\n",
    "                if j == len(lines) - 4:\n",
    "                    row.append(lyr)\n",
    "\n",
    "\n",
    "            # append every line that isn't lyrics    \n",
    "            else:\n",
    "                row.append(i)\n",
    "\n",
    "        \n",
    "        # append rows to file for dataframe\n",
    "        file.append(row)\n",
    "        \n",
    "    return pd.DataFrame(file[1:], columns = file[0])"
   ]
  },
  {
   "cell_type": "code",
   "execution_count": 3,
   "metadata": {},
   "outputs": [],
   "source": [
    "# path to directory with all files\n",
    "path = 'data/azlyrics-scraper/azlyrics_lyrics_'\n",
    "\n",
    "# create list of all paths, optional: add path for file for bands who start with a number\n",
    "all_paths = ['data/azlyrics-scraper/azlyrics_lyrics_19.csv']\n",
    "\n",
    "# loop through every letter in the alphabet to \n",
    "for char in ascii_lowercase:\n",
    "    # make new path to append\n",
    "    pathway = path + char + '.csv'\n",
    "    # append new path\n",
    "    all_paths.append(pathway)"
   ]
  },
  {
   "cell_type": "code",
   "execution_count": 4,
   "metadata": {},
   "outputs": [],
   "source": [
    "# create all_lyrics DF to concatenate other lyric dfs to\n",
    "all_lyrics = create_df('data/azlyrics-scraper/azlyrics_lyrics_19.csv')"
   ]
  },
  {
   "cell_type": "code",
   "execution_count": 5,
   "metadata": {},
   "outputs": [],
   "source": [
    "# for every path, create a dataframe and concatenate it to all_lyrics\n",
    "# all_lyrics already has azlyrics_lyrics_19 in it, so 0th element is skipped\n",
    "for _ in all_paths[1:]:\n",
    "    df = create_df(_)\n",
    "    all_lyrics = pd.concat([all_lyrics, df])"
   ]
  },
  {
   "cell_type": "code",
   "execution_count": 6,
   "metadata": {},
   "outputs": [],
   "source": [
    "# reset index of all_lyrics\n",
    "all_lyrics.reset_index(drop = True, inplace = True)"
   ]
  },
  {
   "cell_type": "code",
   "execution_count": 7,
   "metadata": {},
   "outputs": [],
   "source": [
    "# save complete dataframe as csv\n",
    "all_lyrics.to_csv(path + 'complete.csv')"
   ]
  },
  {
   "cell_type": "markdown",
   "metadata": {},
   "source": [
    "### Creating punk rock/pop band subset of data"
   ]
  },
  {
   "cell_type": "code",
   "execution_count": 8,
   "metadata": {},
   "outputs": [],
   "source": [
    "# list of pop punk bands - courtesy of Wikipedia (with some additions + deletions)\n",
    "bands_punk = [\"+44\", \"22 jacks\", \"5 seconds of summer\", \"999\", \"a\",\\\n",
    "              \"a day to remember\", \"the academy is...\", \"ace troubleshooter\",\\\n",
    "              \"acceptance\", \"afi\", \"against the current\", \"a change of pace\",\\\n",
    "              \"alien ant farm\", \"alkaline trio\", \"a loss for words\", \"all\",\\\n",
    "              \"the all-american rejects\", \"all time low\", \"allister\",\\\n",
    "              \"amber pacific\", \"american hi-fi\", \"army of freshmen\", \"anarbor\", \\\n",
    "              \"artist vs. poet\", \"as it is\", \"ash\", \"the ataris\", \"the audition\",\\\n",
    "              \"audio karate\", \"autopilot off\", \"avril lavigne\", \"beat crusaders\",\\\n",
    "              \"beat union\", \"better luck next time\", \"big drill car\", \"billy talent\",\\\n",
    "              \"blink-182\", \"bodyjar\", \"boris the sprinkler\", \"bomb the music industry!\",\\\n",
    "              \"the bouncing souls\", \"bowling for soup\", \"box car racer\", \"the boys\",\\\n",
    "              \"boys like girls\", \"bracket\", \"brand new\", \"broadside\", \"broadway calls\",\\\n",
    "              \"busted\", \"buzzcocks\", \"the cab\", \"carousel kings\", \"cartel\", \"cayetana\",\\\n",
    "              \"chasing morgan\", \"chixdiggit\", \"chunk! no, captain chunk!\", \"the click five\",\\\n",
    "              \"the copyrights\", \"count the stars\", \"courage my love\", \"crash romeo\", \"crimpshrine\",\\\n",
    "              \"cub\", \"cute is what we aim for\", \"daggermouth\", \"the dangerous summer\",\\\n",
    "              \"david crowder band\", \"the dead milkmen\", \"descendents\", \"the donnas\", \"the downtown fiction\",\\\n",
    "              \"driving east\", \"dum dums\", \"eat me raw\", \"every avenue\", \"eleventyseven\", \"elliot minor\",\\\n",
    "              \"energy\", \"the ergs!\", \"eternal boy\", \"eve 6\", \"even in blackouts\", \"everyday sunday\",\\\n",
    "              \"faber drive\", \"face to face\", \"falling in reverse\", \"fall out boy\", \"farewell\", \"fenix tx\",\\\n",
    "              \"fight fair\", \"finley\", \"fireworks\", \"flatfoot 56\", \"flop\", \"fluf\", \"fm static\", \"fonzie\",\\\n",
    "              \"forever came calling\", \"forever the sickest kids\", \"four year strong\", \"the friday night boys\",\\\n",
    "              \"generation x\", \"the get up kids\", \"ghoti hook\", \"go betty go\", \"go radio\", \"gob\", \"goldfinger\",\\\n",
    "              \"good charlotte\", \"goodnight nurse\", \"grayscale\", \"green day\", \"greyfield\", \"groovie ghoulies\",\\\n",
    "              \"guttermouth\", \"hagfish\", \"halifax\", \"handguns\", \"hangnail\", \"hawk nelson\", \"head injuries\",\\\n",
    "              \"hedley\", \"hey monday\", \"hey violet\", \"hidden in plain view\", \"the hi-fives\", \"the high court\",\\\n",
    "              \"the higher\", \"the hippos\", \"hit the lights\", \"home grown\", \"hot mulligan\", \"house of heroes\",\\\n",
    "              \"houston calls\", \"the huntingtons\", \"i call fives\", \"i fight dragons\", \"icon for hire\",\\\n",
    "              \"ivoryline\", \"the jam\", \"jawbreaker\", \"jeff rosenstock\", \"jimmy eat world\", \"june\",\\\n",
    "              \"just surrender\", \"karate high school\", \"kid down\", \"kids can't fly\", \"kids in glass houses\",\\\n",
    "              \"kids in the way\", \"killerpilze\", \"kiros\", \"kisschasy\", \"knuckle puck\", \"koopa\", \"lagwagon\",\\\n",
    "              \"latterman\", \"left front tire\", \"the leftovers\", \"the lemonheads\", \"less than jake\", \"lifesavors\",\\\n",
    "              \"lifetime\", \"light years\", \"like pacific\", \"the lillingtons\", \"limbeck\", \"lit\", \"lola ray\",\\\n",
    "              \"love you to death\", \"lucky 7\", \"lucky boys confusion\", \"ludo\", \"lustra\", \"mach pelican\",\\\n",
    "              \"magnapop\", \"the maine\", \"makeout\", \"man overboard\", \"manges\", \"marianas trench\",\\\n",
    "              \"masked intruder\", \"the matches\", \"mayday parade\", \"mcbusted\", \"mcfly\",\\\n",
    "              \"me first and the gimme gimmes\", \"melody fall\", \"mest\", \"the methadones\", \"midtown\",\\\n",
    "              \"millencolin\", \"mixtapes\", \"moose blood\", \"momoiro clover z\", \"motion city soundtrack\",\\\n",
    "              \"modern baseball\", \"the movielife\", \"the mr. t experience\", \"the muffs\", \"mxpx\",\\\n",
    "              \"my chemical romance\", \"neck deep\", \"nerf herder\", \"the new cities\", \"new found glory\",\\\n",
    "              \"new years day\", \"nofx\", \"noise by numbers\", \"not by choice\", \"no use for a name\", \"october fall\",\\\n",
    "              \"the offspring\", \"on my honor\", \"one ok rock\", \"orange\", \"over it\", \"paige\", \"parasites\",\\\n",
    "              \"paramore\", \"pardon us\", \"panic! at the disco\", \"patent pending\", \"permanent me\",\\\n",
    "              \"pee wee gaskins\", \"philmont\", \"pierce the veil\", \"plain white t's\", \"plinko\", \"pointed sticks\",\\\n",
    "              \"poor old lu\", \"the presidents of the united states of america\", \"propagandhi\", \"punchbuggy\",\\\n",
    "              \"punchline\", \"pup\", \"the queers\", \"quietdrive\", \"ramones\", \"rancid\", \"real friends\",\\\n",
    "              \"red city radio\", \"the red jumpsuit apparatus\", \"reggie and the full effect\", \"relient k\",\\\n",
    "              \"riddlin' kids\", \"roam\", \"rookie of the year\", \"rudi\", \"rufio\", \"run kid run\", \"saves the day\",\\\n",
    "              \"say anything\", \"saving aimee\", \"scenes from a movie\", \"scott murphy\", \"screeching weasel\",\\\n",
    "              \"seaway\", \"senses fail\", \"set it off\", \"set your goals\", \"shook ones\", \"short stack\", \"showoff\",\\\n",
    "              \"simple plan\", \"sleeping with sirens\", \"sleep on it\", \"slick shoes\", \"sludgeworth\", \"smash mouth\",\\\n",
    "              \"smoking popes\", \"something corporate\", \"son of dork\", \"the soviettes\", \"spanish love songs\",\\\n",
    "              \"sparks the rescue\", \"spazzys\", \"split habit\", \"sr-71\", \"stand atlantic\", \"the starting line\",\\\n",
    "              \"state champs\", \"stellar kart\", \"stereos\", \"steriogram\", \"stiff dylans\", \"story of the year\",\\\n",
    "              \"the story so far\", \"story untold\", \"student rick\", \"sugarcult\", \"sum 41\", \"supergrass\",\\\n",
    "              \"superman is dead\", \"the summer obsession\", \"the summer set\", \"sweet baby\", \"the swellers\",\\\n",
    "              \"tacocat\", \"taking back sunday\", \"teen idols\", \"teenage bottlerocket\", \"ten second epic\",\\\n",
    "              \"terrible things\", \"there for tomorrow\", \"these kids wear crowns\", \"this century\",\\\n",
    "              \"this time next year\", \"tigers jaw\", \"tilt\", \"title fight\", \"tonight alive\", \"transit\",\\\n",
    "              \"trash boat\", \"the travoltas\", \"treble charger\", \"trucks\", \"twenty twenty\", \"undercover\",\\\n",
    "              \"the undertones\", \"the unlovables\", \"unwritten law\", \"valencia\", \"the vandals\", \"vanilla sky\",\\\n",
    "              \"verona grove\", \"violent delight\", \"waterparks\", \"wavves\", \"wakefield\", \"we are the in crowd\",\\\n",
    "              \"the wedding\", \"weezer\", \"we the kings\", \"wheatus\", \"with confidence\", \"the wonder years\",\\\n",
    "              \"wstr\", \"yellowcard\", \"you, me, and everyone we know\", \"you me at six\", \"zebrahead\",\\\n",
    "              \"zolof the rock and roll destroyer\", \"menzingers, the\", \"anberlin\", 'silverstein', 'rise against',\\\n",
    "              \"the used\", \"dashboard confessional\"]"
   ]
  },
  {
   "cell_type": "code",
   "execution_count": 9,
   "metadata": {},
   "outputs": [],
   "source": [
    "# restructure name of bands with \"the\" in front to match dataframe style\n",
    "rest_bands = []\n",
    "for i in bands_punk:\n",
    "    # len of 'the ' is 4; check if first 4 characters are 'the '\n",
    "    if i[:4] == 'the ':\n",
    "        # take out 'the ' from band name and place at end of string\n",
    "        restructured = i[4:] + \", the\"\n",
    "        # append to new list\n",
    "        rest_bands.append(restructured)\n",
    "    elif i[:2] == 'a ':\n",
    "        # take out 'a ' from band name and place at end of string\n",
    "        restructured = i[2:] + \", a\"\n",
    "        # append to new list\n",
    "        rest_bands.append(restructured)\n",
    "    else:\n",
    "        # append name of bands without 'the ' in front\n",
    "        rest_bands.append(i)"
   ]
  },
  {
   "cell_type": "code",
   "execution_count": 10,
   "metadata": {},
   "outputs": [],
   "source": [
    "# create punk_df which has the punk rock/pop bands from our list of bands\n",
    "punk_df = all_lyrics[all_lyrics.ARTIST_NAME.isin(rest_bands)]\n",
    "punk_df.reset_index(drop = True, inplace = True)"
   ]
  },
  {
   "cell_type": "code",
   "execution_count": 11,
   "metadata": {},
   "outputs": [],
   "source": [
    "# save dataframe to csv\n",
    "punk_df.to_csv('data/punk_bands.csv')"
   ]
  },
  {
   "cell_type": "code",
   "execution_count": 13,
   "metadata": {},
   "outputs": [],
   "source": [
    "# create seed for reusability\n",
    "random.seed(a = 11)\n",
    "\n",
    "#create list of subset of punk bands\n",
    "subset_punk = []\n",
    "\n",
    "# subset only using 1/3 bands found in the dataframe\n",
    "while len(subset_punk) < round(len(np.unique(punk_df.ARTIST_NAME))/3):\n",
    "    # randomly choose a band from the list\n",
    "    chosen = random.choice(np.unique(punk_df.ARTIST_NAME))\n",
    "    # if band not in the list, append the band to the list\n",
    "    if chosen not in subset_punk:\n",
    "        subset_punk.append(chosen)"
   ]
  },
  {
   "cell_type": "code",
   "execution_count": 14,
   "metadata": {},
   "outputs": [],
   "source": [
    "subset_punk_df = all_lyrics[all_lyrics.ARTIST_NAME.isin(subset_punk)]\n",
    "subset_punk_df.reset_index(drop = True, inplace = True)"
   ]
  },
  {
   "cell_type": "code",
   "execution_count": 15,
   "metadata": {},
   "outputs": [],
   "source": [
    "# save dataframe to csv\n",
    "subset_punk_df.to_csv('data/subset_punk_bands.csv')"
   ]
  },
  {
   "cell_type": "code",
   "execution_count": 36,
   "metadata": {},
   "outputs": [],
   "source": [
    "subs = ['all time low', 'dashboard confessional', 'day to remember, a', 'good charlotte',\n",
    "       'green day', 'jimmy eat world', 'menzingers, the', 'my chemical romance',\n",
    "       'paramore', 'simple plan', 'state champs', 'story of the year', 'story so far, the',\n",
    "       'taking back sunday', 'yellowcard']"
   ]
  },
  {
   "cell_type": "code",
   "execution_count": 43,
   "metadata": {},
   "outputs": [],
   "source": [
    "subset_df = punk_df[punk_df.ARTIST_NAME.isin(subs)]\n",
    "subset_df = subset_df.reset_index(drop = True)"
   ]
  },
  {
   "cell_type": "code",
   "execution_count": null,
   "metadata": {},
   "outputs": [],
   "source": []
  }
 ],
 "metadata": {
  "kernelspec": {
   "display_name": "Python 3",
   "language": "python",
   "name": "python3"
  },
  "language_info": {
   "codemirror_mode": {
    "name": "ipython",
    "version": 3
   },
   "file_extension": ".py",
   "mimetype": "text/x-python",
   "name": "python",
   "nbconvert_exporter": "python",
   "pygments_lexer": "ipython3",
   "version": "3.7.6"
  }
 },
 "nbformat": 4,
 "nbformat_minor": 4
}
