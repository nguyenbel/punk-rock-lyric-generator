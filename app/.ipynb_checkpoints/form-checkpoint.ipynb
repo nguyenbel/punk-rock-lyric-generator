{
 "cells": [
  {
   "cell_type": "code",
   "execution_count": null,
   "metadata": {},
   "outputs": [],
   "source": [
    "<!DOCTYPE html>\n",
    "<html lang=\"en\">\n",
    "<head>\n",
    "    <meta charset=\"utf-8\">\n",
    "    <meta name=\"viewport\" content=\"width=device-width, initial-scale=1, shrink-to-fit=no\">\n",
    "    <meta name=\"author\" content=\"Ahmedur Rahman Shovon\">\n",
    "    <title>Dropdown Example</title>\n",
    "</head>\n",
    "<body>\n",
    "        <form action = \"/predict\" method = 'POST'>\n",
    "    <p>Write your lyrics<p>\n",
    "        <input type = \"text\" name = \"lyrics\" />\n",
    "  <p>Select an artist from the list.</p>\n",
    "  <form id=\"form1\" action=\"/login\" method=\"POST\" enctype=\"multipart/form-data\">\n",
    "    <select id=\"mySelect\" name = \"artists\">\n",
    "      <option value=\"all time low\">All Time Low</option>\n",
    "      <option value=\"dashboard confessional\">Dashboard Confessional</option>\n",
    "      <option value=\"day to remember, a\">A Day to Remember</option>\n",
    "      <option value=\"good charlotte\">Good Charlotte</option>\n",
    "      <option value=\"green day\">Green Day</option>\n",
    "      <option value=\"jimmy eat world\">Jimmy Eat World</option>\n",
    "      <option value=\"menzingers, the\">The Menzingers</option>\n",
    "      <option value=\"my chemical romance\">My Chemical Romance</option>\n",
    "      <option value=\"paramore\">Paramore</option>\n",
    "      <option value=\"simple plan\">Simple Plan</option>\n",
    "      <option value=\"state champs\">State Champs</option>\n",
    "      <option value=\"'story of the year'\">Story of the Year</option>\n",
    "      <option value=\"story so far, the\">The Story So Far</option>\n",
    "      <option value=\"taking back sunday\">Taking Back Sunday</option>\n",
    "      <option value=\"yellowcard\">Yellowcard</option>\n",
    "    </select>\n",
    "    <p> Input a length you want the lyrics to be (total length includes length of prompt)<p>\n",
    "    <input type = \"text\" name = \"length\" />\n",
    "    <input type=\"submit\" value=\"Submit\">\n",
    "  </form>\n",
    "\n",
    "</body>\n",
    "</html>"
   ]
  },
  {
   "cell_type": "code",
   "execution_count": 3,
   "metadata": {},
   "outputs": [
    {
     "name": "stdout",
     "output_type": "stream",
     "text": [
      "[NbConvertApp] Converting notebook form.ipynb to html\n",
      "[NbConvertApp] Writing 277461 bytes to form.html\n"
     ]
    }
   ],
   "source": [
    "!jupyter nbconvert --to html form.ipynb"
   ]
  },
  {
   "cell_type": "code",
   "execution_count": null,
   "metadata": {},
   "outputs": [],
   "source": []
  }
 ],
 "metadata": {
  "kernelspec": {
   "display_name": "Python 3",
   "language": "python",
   "name": "python3"
  },
  "language_info": {
   "codemirror_mode": {
    "name": "ipython",
    "version": 3
   },
   "file_extension": ".py",
   "mimetype": "text/x-python",
   "name": "python",
   "nbconvert_exporter": "python",
   "pygments_lexer": "ipython3",
   "version": "3.7.6"
  }
 },
 "nbformat": 4,
 "nbformat_minor": 4
}
